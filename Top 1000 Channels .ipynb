{
 "cells": [
  {
   "cell_type": "markdown",
   "id": "bfae9d44",
   "metadata": {},
   "source": [
    "# Visualization Project on the top 100 Subscribed Channels on Youtube"
   ]
  },
  {
   "cell_type": "markdown",
   "id": "9d2b6c9e",
   "metadata": {},
   "source": [
    "## Import Libraries"
   ]
  },
  {
   "cell_type": "code",
   "execution_count": 23,
   "id": "88584942",
   "metadata": {},
   "outputs": [],
   "source": [
    "import pandas as pd\n",
    "import numpy as np\n",
    "import matplotlib.pyplot as plt\n",
    "import seaborn as sns\n",
    "%matplotlib inline"
   ]
  },
  {
   "cell_type": "markdown",
   "id": "34b9a986",
   "metadata": {},
   "source": [
    "## Load Dataset"
   ]
  },
  {
   "cell_type": "code",
   "execution_count": 24,
   "id": "ea6c06dc",
   "metadata": {},
   "outputs": [],
   "source": [
    "ytdf = pd.read_csv(\"Datasets/top channels.csv\")"
   ]
  },
  {
   "cell_type": "markdown",
   "id": "f1090bae",
   "metadata": {},
   "source": [
    "## Data Preparation"
   ]
  },
  {
   "cell_type": "markdown",
   "id": "5bc0a3f8",
   "metadata": {},
   "source": [
    "### Renaming the necessary columns"
   ]
  },
  {
   "cell_type": "code",
   "execution_count": 25,
   "id": "645c3964",
   "metadata": {},
   "outputs": [],
   "source": [
    "ytdf.rename(columns={\"Video Count\":\"Upload Count\"},inplace=True)"
   ]
  },
  {
   "cell_type": "code",
   "execution_count": 26,
   "id": "060ef837",
   "metadata": {},
   "outputs": [
    {
     "data": {
      "text/html": [
       "<div>\n",
       "<style scoped>\n",
       "    .dataframe tbody tr th:only-of-type {\n",
       "        vertical-align: middle;\n",
       "    }\n",
       "\n",
       "    .dataframe tbody tr th {\n",
       "        vertical-align: top;\n",
       "    }\n",
       "\n",
       "    .dataframe thead th {\n",
       "        text-align: right;\n",
       "    }\n",
       "</style>\n",
       "<table border=\"1\" class=\"dataframe\">\n",
       "  <thead>\n",
       "    <tr style=\"text-align: right;\">\n",
       "      <th></th>\n",
       "      <th>Rank</th>\n",
       "      <th>Youtube Channel</th>\n",
       "      <th>Subscribers</th>\n",
       "      <th>Video Views</th>\n",
       "      <th>Upload Count</th>\n",
       "      <th>Category</th>\n",
       "      <th>Started</th>\n",
       "    </tr>\n",
       "  </thead>\n",
       "  <tbody>\n",
       "    <tr>\n",
       "      <th>0</th>\n",
       "      <td>1</td>\n",
       "      <td>T-Series</td>\n",
       "      <td>234,000,000</td>\n",
       "      <td>212,900,271,553</td>\n",
       "      <td>18,515</td>\n",
       "      <td>Music</td>\n",
       "      <td>2006</td>\n",
       "    </tr>\n",
       "    <tr>\n",
       "      <th>1</th>\n",
       "      <td>2</td>\n",
       "      <td>YouTube Movies</td>\n",
       "      <td>161,000,000</td>\n",
       "      <td>0</td>\n",
       "      <td>0</td>\n",
       "      <td>Film &amp; Animation</td>\n",
       "      <td>2015</td>\n",
       "    </tr>\n",
       "    <tr>\n",
       "      <th>2</th>\n",
       "      <td>3</td>\n",
       "      <td>Cocomelon - Nursery Rhymes</td>\n",
       "      <td>152,000,000</td>\n",
       "      <td>149,084,178,448</td>\n",
       "      <td>846</td>\n",
       "      <td>Education</td>\n",
       "      <td>2006</td>\n",
       "    </tr>\n",
       "  </tbody>\n",
       "</table>\n",
       "</div>"
      ],
      "text/plain": [
       "   Rank             Youtube Channel  Subscribers      Video Views  \\\n",
       "0     1                    T-Series  234,000,000  212,900,271,553   \n",
       "1     2              YouTube Movies  161,000,000                0   \n",
       "2     3  Cocomelon - Nursery Rhymes  152,000,000  149,084,178,448   \n",
       "\n",
       "  Upload Count          Category  Started  \n",
       "0       18,515             Music     2006  \n",
       "1            0  Film & Animation     2015  \n",
       "2          846         Education     2006  "
      ]
     },
     "execution_count": 26,
     "metadata": {},
     "output_type": "execute_result"
    }
   ],
   "source": [
    "ytdf.head(3)"
   ]
  },
  {
   "cell_type": "markdown",
   "id": "6e962f28",
   "metadata": {},
   "source": [
    "### Head of the data"
   ]
  },
  {
   "cell_type": "code",
   "execution_count": 27,
   "id": "ad7be6c9",
   "metadata": {},
   "outputs": [
    {
     "data": {
      "text/html": [
       "<div>\n",
       "<style scoped>\n",
       "    .dataframe tbody tr th:only-of-type {\n",
       "        vertical-align: middle;\n",
       "    }\n",
       "\n",
       "    .dataframe tbody tr th {\n",
       "        vertical-align: top;\n",
       "    }\n",
       "\n",
       "    .dataframe thead th {\n",
       "        text-align: right;\n",
       "    }\n",
       "</style>\n",
       "<table border=\"1\" class=\"dataframe\">\n",
       "  <thead>\n",
       "    <tr style=\"text-align: right;\">\n",
       "      <th></th>\n",
       "      <th>Rank</th>\n",
       "      <th>Youtube Channel</th>\n",
       "      <th>Subscribers</th>\n",
       "      <th>Video Views</th>\n",
       "      <th>Upload Count</th>\n",
       "      <th>Category</th>\n",
       "      <th>Started</th>\n",
       "    </tr>\n",
       "  </thead>\n",
       "  <tbody>\n",
       "    <tr>\n",
       "      <th>0</th>\n",
       "      <td>1</td>\n",
       "      <td>T-Series</td>\n",
       "      <td>234,000,000</td>\n",
       "      <td>212,900,271,553</td>\n",
       "      <td>18,515</td>\n",
       "      <td>Music</td>\n",
       "      <td>2006</td>\n",
       "    </tr>\n",
       "    <tr>\n",
       "      <th>1</th>\n",
       "      <td>2</td>\n",
       "      <td>YouTube Movies</td>\n",
       "      <td>161,000,000</td>\n",
       "      <td>0</td>\n",
       "      <td>0</td>\n",
       "      <td>Film &amp; Animation</td>\n",
       "      <td>2015</td>\n",
       "    </tr>\n",
       "    <tr>\n",
       "      <th>2</th>\n",
       "      <td>3</td>\n",
       "      <td>Cocomelon - Nursery Rhymes</td>\n",
       "      <td>152,000,000</td>\n",
       "      <td>149,084,178,448</td>\n",
       "      <td>846</td>\n",
       "      <td>Education</td>\n",
       "      <td>2006</td>\n",
       "    </tr>\n",
       "  </tbody>\n",
       "</table>\n",
       "</div>"
      ],
      "text/plain": [
       "   Rank             Youtube Channel  Subscribers      Video Views  \\\n",
       "0     1                    T-Series  234,000,000  212,900,271,553   \n",
       "1     2              YouTube Movies  161,000,000                0   \n",
       "2     3  Cocomelon - Nursery Rhymes  152,000,000  149,084,178,448   \n",
       "\n",
       "  Upload Count          Category  Started  \n",
       "0       18,515             Music     2006  \n",
       "1            0  Film & Animation     2015  \n",
       "2          846         Education     2006  "
      ]
     },
     "execution_count": 27,
     "metadata": {},
     "output_type": "execute_result"
    }
   ],
   "source": [
    "ytdf.head(3)"
   ]
  },
  {
   "cell_type": "markdown",
   "id": "2cc83618",
   "metadata": {},
   "source": [
    "### About\n",
    "\n",
    "**Youtube Founded** - 14 February 2005\n",
    "\n",
    "> **Rank** - Overall rank of the channel out of the lot\n",
    "\n",
    "> **Youtube Channel** - Channel Name\n",
    "\n",
    "> **Subscribers** - Subscriber Count\n",
    "\n",
    "> **Video Views** - Overall views generated in the channel\n",
    "\n",
    "> **Video Count** - Number of videos uploaded in the channel\n",
    "\n",
    "> **Category** - Which category does the channel belong to ?\n",
    "\n",
    "> **Started** - When was the created on youtube"
   ]
  },
  {
   "cell_type": "code",
   "execution_count": 28,
   "id": "da4294d5",
   "metadata": {},
   "outputs": [
    {
     "data": {
      "text/plain": [
       "(1000, 7)"
      ]
     },
     "execution_count": 28,
     "metadata": {},
     "output_type": "execute_result"
    }
   ],
   "source": [
    "ytdf.shape"
   ]
  },
  {
   "cell_type": "markdown",
   "id": "6075591e",
   "metadata": {},
   "source": [
    "### Use the Info() to get an idea about datatypes,dimensions etc"
   ]
  },
  {
   "cell_type": "code",
   "execution_count": 29,
   "id": "c7ac05f9",
   "metadata": {},
   "outputs": [
    {
     "name": "stdout",
     "output_type": "stream",
     "text": [
      "<class 'pandas.core.frame.DataFrame'>\n",
      "RangeIndex: 1000 entries, 0 to 999\n",
      "Data columns (total 7 columns):\n",
      " #   Column           Non-Null Count  Dtype \n",
      "---  ------           --------------  ----- \n",
      " 0   Rank             1000 non-null   int64 \n",
      " 1   Youtube Channel  1000 non-null   object\n",
      " 2   Subscribers      1000 non-null   object\n",
      " 3   Video Views      1000 non-null   object\n",
      " 4   Upload Count     1000 non-null   object\n",
      " 5   Category         1000 non-null   object\n",
      " 6   Started          1000 non-null   int64 \n",
      "dtypes: int64(2), object(5)\n",
      "memory usage: 54.8+ KB\n"
     ]
    }
   ],
   "source": [
    "ytdf.info()"
   ]
  },
  {
   "cell_type": "markdown",
   "id": "23c86b88",
   "metadata": {},
   "source": [
    "### Describe() to get the statistical information"
   ]
  },
  {
   "cell_type": "code",
   "execution_count": 34,
   "id": "e4382654",
   "metadata": {},
   "outputs": [
    {
     "data": {
      "text/html": [
       "<div>\n",
       "<style scoped>\n",
       "    .dataframe tbody tr th:only-of-type {\n",
       "        vertical-align: middle;\n",
       "    }\n",
       "\n",
       "    .dataframe tbody tr th {\n",
       "        vertical-align: top;\n",
       "    }\n",
       "\n",
       "    .dataframe thead th {\n",
       "        text-align: right;\n",
       "    }\n",
       "</style>\n",
       "<table border=\"1\" class=\"dataframe\">\n",
       "  <thead>\n",
       "    <tr style=\"text-align: right;\">\n",
       "      <th></th>\n",
       "      <th>Rank</th>\n",
       "      <th>Started</th>\n",
       "    </tr>\n",
       "  </thead>\n",
       "  <tbody>\n",
       "    <tr>\n",
       "      <th>count</th>\n",
       "      <td>1000.000000</td>\n",
       "      <td>1000.000000</td>\n",
       "    </tr>\n",
       "    <tr>\n",
       "      <th>mean</th>\n",
       "      <td>500.500000</td>\n",
       "      <td>2012.594000</td>\n",
       "    </tr>\n",
       "    <tr>\n",
       "      <th>std</th>\n",
       "      <td>288.819436</td>\n",
       "      <td>4.110238</td>\n",
       "    </tr>\n",
       "    <tr>\n",
       "      <th>min</th>\n",
       "      <td>1.000000</td>\n",
       "      <td>1970.000000</td>\n",
       "    </tr>\n",
       "    <tr>\n",
       "      <th>25%</th>\n",
       "      <td>250.750000</td>\n",
       "      <td>2010.000000</td>\n",
       "    </tr>\n",
       "    <tr>\n",
       "      <th>50%</th>\n",
       "      <td>500.500000</td>\n",
       "      <td>2013.000000</td>\n",
       "    </tr>\n",
       "    <tr>\n",
       "      <th>75%</th>\n",
       "      <td>750.250000</td>\n",
       "      <td>2015.000000</td>\n",
       "    </tr>\n",
       "    <tr>\n",
       "      <th>max</th>\n",
       "      <td>1000.000000</td>\n",
       "      <td>2021.000000</td>\n",
       "    </tr>\n",
       "  </tbody>\n",
       "</table>\n",
       "</div>"
      ],
      "text/plain": [
       "              Rank      Started\n",
       "count  1000.000000  1000.000000\n",
       "mean    500.500000  2012.594000\n",
       "std     288.819436     4.110238\n",
       "min       1.000000  1970.000000\n",
       "25%     250.750000  2010.000000\n",
       "50%     500.500000  2013.000000\n",
       "75%     750.250000  2015.000000\n",
       "max    1000.000000  2021.000000"
      ]
     },
     "execution_count": 34,
     "metadata": {},
     "output_type": "execute_result"
    }
   ],
   "source": [
    "ytdf.describe()"
   ]
  },
  {
   "cell_type": "code",
   "execution_count": 36,
   "id": "97eb23fc",
   "metadata": {},
   "outputs": [
    {
     "data": {
      "text/html": [
       "<div>\n",
       "<style scoped>\n",
       "    .dataframe tbody tr th:only-of-type {\n",
       "        vertical-align: middle;\n",
       "    }\n",
       "\n",
       "    .dataframe tbody tr th {\n",
       "        vertical-align: top;\n",
       "    }\n",
       "\n",
       "    .dataframe thead th {\n",
       "        text-align: right;\n",
       "    }\n",
       "</style>\n",
       "<table border=\"1\" class=\"dataframe\">\n",
       "  <thead>\n",
       "    <tr style=\"text-align: right;\">\n",
       "      <th></th>\n",
       "      <th>Rank</th>\n",
       "      <th>Youtube Channel</th>\n",
       "      <th>Subscribers</th>\n",
       "      <th>Video Views</th>\n",
       "      <th>Upload Count</th>\n",
       "      <th>Category</th>\n",
       "      <th>Started</th>\n",
       "    </tr>\n",
       "  </thead>\n",
       "  <tbody>\n",
       "    <tr>\n",
       "      <th>995</th>\n",
       "      <td>996</td>\n",
       "      <td>XO TEAM</td>\n",
       "      <td>11,500,000</td>\n",
       "      <td>11,471,384,709</td>\n",
       "      <td>2,679</td>\n",
       "      <td>People &amp; Blogs</td>\n",
       "      <td>2021</td>\n",
       "    </tr>\n",
       "    <tr>\n",
       "      <th>996</th>\n",
       "      <td>997</td>\n",
       "      <td>Nirahua Music World</td>\n",
       "      <td>11,500,000</td>\n",
       "      <td>5,997,717,755</td>\n",
       "      <td>788</td>\n",
       "      <td>Music</td>\n",
       "      <td>2014</td>\n",
       "    </tr>\n",
       "    <tr>\n",
       "      <th>997</th>\n",
       "      <td>998</td>\n",
       "      <td>YtCrash</td>\n",
       "      <td>11,400,000</td>\n",
       "      <td>3,825,084</td>\n",
       "      <td>1</td>\n",
       "      <td>Education</td>\n",
       "      <td>2015</td>\n",
       "    </tr>\n",
       "    <tr>\n",
       "      <th>998</th>\n",
       "      <td>999</td>\n",
       "      <td>Painzeiro</td>\n",
       "      <td>11,400,000</td>\n",
       "      <td>2,143,444,281</td>\n",
       "      <td>946</td>\n",
       "      <td>People &amp; Blogs</td>\n",
       "      <td>2015</td>\n",
       "    </tr>\n",
       "    <tr>\n",
       "      <th>999</th>\n",
       "      <td>1000</td>\n",
       "      <td>Oum Walid</td>\n",
       "      <td>11,400,000</td>\n",
       "      <td>2,480,064,722</td>\n",
       "      <td>1,598</td>\n",
       "      <td>People &amp; Blogs</td>\n",
       "      <td>2015</td>\n",
       "    </tr>\n",
       "  </tbody>\n",
       "</table>\n",
       "</div>"
      ],
      "text/plain": [
       "     Rank      Youtube Channel Subscribers     Video Views Upload Count  \\\n",
       "995   996              XO TEAM  11,500,000  11,471,384,709        2,679   \n",
       "996   997  Nirahua Music World  11,500,000   5,997,717,755          788   \n",
       "997   998              YtCrash  11,400,000       3,825,084            1   \n",
       "998   999            Painzeiro  11,400,000   2,143,444,281          946   \n",
       "999  1000            Oum Walid  11,400,000   2,480,064,722        1,598   \n",
       "\n",
       "           Category  Started  \n",
       "995  People & Blogs     2021  \n",
       "996           Music     2014  \n",
       "997       Education     2015  \n",
       "998  People & Blogs     2015  \n",
       "999  People & Blogs     2015  "
      ]
     },
     "execution_count": 36,
     "metadata": {},
     "output_type": "execute_result"
    }
   ],
   "source": [
    "ytdf.tail(5)"
   ]
  },
  {
   "cell_type": "markdown",
   "id": "3c11e632",
   "metadata": {},
   "source": [
    "## Data Cleaning"
   ]
  },
  {
   "cell_type": "markdown",
   "id": "fa47770c",
   "metadata": {},
   "source": [
    "Youtube was founded in 2005. Any values less than 2005 that are added in the **Started** Column should be corrected "
   ]
  },
  {
   "cell_type": "markdown",
   "id": "1eacad16",
   "metadata": {},
   "source": [
    "### Fix the 'Started' Column with values < 2005"
   ]
  },
  {
   "cell_type": "code",
   "execution_count": null,
   "id": "f7171af4",
   "metadata": {},
   "outputs": [],
   "source": []
  },
  {
   "cell_type": "code",
   "execution_count": null,
   "id": "16cce620",
   "metadata": {},
   "outputs": [],
   "source": []
  },
  {
   "cell_type": "code",
   "execution_count": null,
   "id": "22e310ed",
   "metadata": {},
   "outputs": [],
   "source": []
  },
  {
   "cell_type": "code",
   "execution_count": null,
   "id": "66d3bff7",
   "metadata": {},
   "outputs": [],
   "source": []
  },
  {
   "cell_type": "code",
   "execution_count": null,
   "id": "bde6ddd0",
   "metadata": {},
   "outputs": [],
   "source": []
  },
  {
   "cell_type": "code",
   "execution_count": null,
   "id": "106d550c",
   "metadata": {},
   "outputs": [],
   "source": []
  },
  {
   "cell_type": "markdown",
   "id": "177e62a1",
   "metadata": {},
   "source": [
    "## Visualization"
   ]
  },
  {
   "cell_type": "code",
   "execution_count": null,
   "id": "7381f040",
   "metadata": {},
   "outputs": [],
   "source": []
  }
 ],
 "metadata": {
  "kernelspec": {
   "display_name": "Python 3 (ipykernel)",
   "language": "python",
   "name": "python3"
  },
  "language_info": {
   "codemirror_mode": {
    "name": "ipython",
    "version": 3
   },
   "file_extension": ".py",
   "mimetype": "text/x-python",
   "name": "python",
   "nbconvert_exporter": "python",
   "pygments_lexer": "ipython3",
   "version": "3.9.13"
  }
 },
 "nbformat": 4,
 "nbformat_minor": 5
}
